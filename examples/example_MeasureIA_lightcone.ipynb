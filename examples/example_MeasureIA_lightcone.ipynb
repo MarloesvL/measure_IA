{
 "cells": [
  {
   "cell_type": "code",
   "execution_count": 8,
   "id": "initial_id",
   "metadata": {
    "collapsed": true,
    "ExecuteTime": {
     "end_time": "2025-09-16T12:49:40.299807Z",
     "start_time": "2025-09-16T12:49:40.261146Z"
    }
   },
   "outputs": [],
   "source": [
    "import h5py\n",
    "import numpy as np\n",
    "import matplotlib.pyplot as plt\n",
    "from measureia import MeasureIALightcone\n",
    "from measureia import ReadData"
   ]
  },
  {
   "cell_type": "markdown",
   "source": [
    "# MeasureIA usage \n",
    "MeasureIA can be used to measure intrinsic alignment correlation functions and clustering in lightcone data (observational or simulations). \n",
    "Both the w_gg, w_g+ and multipole moment estimators can be measured.\n",
    "## WARNING: this version is still being validated."
   ],
   "metadata": {
    "collapsed": false
   },
   "id": "30a91d300607f5d2"
  },
  {
   "cell_type": "markdown",
   "source": [
    "## Parameters for MeasureIA object\n",
    "These are the parameters we need to enter to create the MeasureIA object. They govern measurement parameters, e.g. r(p) and pi bins (bounds, number of bins...)."
   ],
   "metadata": {
    "collapsed": false
   },
   "id": "31c257ff2af4d192"
  },
  {
   "cell_type": "code",
   "execution_count": 4,
   "outputs": [],
   "source": [
    "h = 0.7  # value of hubble parameter\n",
    "num_bins_r = 10  # number of r or rp bins\n",
    "num_bins_pi = 20  # number of pi bins. (trivial for wg+, not too little for multipoles)\n",
    "separation_limits = [2.5 / h, 140.0 / h]  # Mpc\n",
    "pimax = 100. / h  # pi max value\n",
    "data_path_out = \"../\"  # file path to output data\n",
    "file_name = \"./tests/data/processed/test_IA.hdf5\"  # datafile name (must be hdf5)\n",
    "num_nodes = 5  # number of CPU cores available for calculation\n",
    "\n",
    "IA_estimator = \"clusters\"  # type of estimator to be used. Choose \"clusters\" or \"galaxies\"\n",
    "# Definition of the estimator will be printed when a method is called"
   ],
   "metadata": {
    "collapsed": false,
    "ExecuteTime": {
     "end_time": "2025-09-15T12:18:25.643244Z",
     "start_time": "2025-09-15T12:18:25.636379Z"
    }
   },
   "id": "d1c2130ffeaa16b0"
  },
  {
   "cell_type": "markdown",
   "source": [
    "## Parameters for methods\n",
    "These are the parameters that are needed to configure the methods that are called. \n",
    "They govern what is measured and which methods are used. Check the method docstrings for extensive explanations."
   ],
   "metadata": {
    "collapsed": false
   },
   "id": "31c27dcea480099c"
  },
  {
   "cell_type": "code",
   "execution_count": 5,
   "outputs": [],
   "source": [
    "cosmology = None  # pyccl cosmology to be used. WMAP9 is default if None\n",
    "over_h = False  # if True, units are changed from Mpc -> Mpc/h\n",
    "calc_errors = True  # If true, jackknife errors are calculated (Default is True)\n",
    "num_jk = 27  # number of jackknife regions. Must be x^3 with x and int.\n",
    "corr_type = \"g+\"  # type of correlation to be calculated, choose g+, gg or both\n",
    "masks = None  # optional directory in form of data_dir containing masks to be placed over data in data_dir\n",
    "masks_randoms = None  # same as masks, but for the randoms\n",
    "rp_cut = None  # optional minimum cut on rp for multipoles calculation"
   ],
   "metadata": {
    "collapsed": false,
    "ExecuteTime": {
     "end_time": "2025-09-15T12:18:48.908656Z",
     "start_time": "2025-09-15T12:18:48.900803Z"
    }
   },
   "id": "a13acc101f5e8c0e"
  },
  {
   "cell_type": "markdown",
   "source": [
    "## Create data dictionary\n",
    "The data input is managed via a dictionary. These need to have specific keys (see below) and contain the position coordinates of both samples (RA, DEC, Redshift) and the shape information (e1, e2).\n",
    "The positonal data is also needed for the random sample, which is stored in a separate dictionary."
   ],
   "metadata": {
    "collapsed": false
   },
   "id": "420143d38fd0b1f7"
  },
  {
   "cell_type": "code",
   "execution_count": 6,
   "outputs": [],
   "source": [
    "# data\n",
    "RA = np.array([])  # RA of clusters\n",
    "DEC = np.array([])  # DEC of clusters\n",
    "e1 = np.array([])  # e1 of clusters\n",
    "e2 = np.array([])  # e2 of clusters\n",
    "z = np.array([])  # redshift of clusters\n",
    "\n",
    "RA_rand = np.array([])  # RA of randoms\n",
    "DEC_rand = np.array([])  # DEC of randoms\n",
    "z_rand = np.array([])  # redshift of randoms\n",
    "\n",
    "# optional, if left empty and num_jk = int, the patches are assigned internally.\n",
    "jk_patches_randoms = np.array([])  # jackknife patch index for each random point\n",
    "jk_patches_shape = np.array([])  # jackknife patch index for each cluster\n",
    "# directory of jackknife information for the position (D), shape (S) and randoms (R) samples\n",
    "patches = {\"position\": jk_patches_shape, \"shape\": jk_patches_shape,\n",
    "\t\t   \"randoms\": jk_patches_randoms}"
   ],
   "metadata": {
    "collapsed": false,
    "ExecuteTime": {
     "end_time": "2025-09-15T12:21:54.814103Z",
     "start_time": "2025-09-15T12:21:54.809964Z"
    }
   },
   "id": "10f9712f12492a51"
  },
  {
   "cell_type": "code",
   "execution_count": 7,
   "outputs": [],
   "source": [
    "#  directory of randoms position data and cluster shape data (for S+R term)\n",
    "data_r = {\"Redshift\": z_rand,  # redshift of R_D sample\n",
    "\t\t  \"Redshift_shape_sample\": z,  # redshift of R_S sample (optional)\n",
    "\t\t  \"RA\": RA_rand,  # RA of R_D sample\n",
    "\t\t  \"RA_shape_sample\": RA,  # RA of R_S sample (optional)\n",
    "\t\t  \"DEC\": DEC_rand,  # DEC of R_D sample\n",
    "\t\t  \"DEC_shape_sample\": DEC,  # DEC of R_S sample (optional)\n",
    "\t\t  }\n",
    "# If only the Redshift, RA and DEC are provided, the code will use this random sample for both positions and shape clustering\n",
    "\n",
    "# directory of cluster data (for S+D term)\n",
    "data = {\"Redshift\": z,  # redshift of D sample\n",
    "\t\t\"Redshift_shape_sample\": z,  # redshift of S sample\n",
    "\t\t\"RA\": RA,  # RA of D sample\n",
    "\t\t\"RA_shape_sample\": RA,  # RA of S sample\n",
    "\t\t\"DEC\": DEC,  # DEC of D sample\n",
    "\t\t\"DEC_shape_sample\": DEC,  # DEC of S sample\n",
    "\t\t\"e1\": e1,  # e1 of S sample\n",
    "\t\t\"e2\": e2}  # e2 of S sample"
   ],
   "metadata": {
    "collapsed": false,
    "ExecuteTime": {
     "end_time": "2025-09-15T12:21:55.040362Z",
     "start_time": "2025-09-15T12:21:55.036236Z"
    }
   },
   "id": "868130a4456e4a10"
  },
  {
   "cell_type": "markdown",
   "source": [
    "## Run with pre-assigned jackknife patches\n",
    "If the jackknife patches are pre-assigned, they can be entered in the dictionary 'jk_patches' and entered in the input of the method."
   ],
   "metadata": {
    "collapsed": false
   },
   "id": "850c99ef625a955b"
  },
  {
   "cell_type": "code",
   "execution_count": null,
   "outputs": [],
   "source": [
    "MeasureIA_validation_obs = MeasureIALightcone(data, data_r,\n",
    "\t\t\t\t\t\t\t\t\t\tseparation_limits=separation_limits, pi_max=pimax,\n",
    "\t\t\t\t\t\t\t\t\t\tnum_bins_r=num_bins_r, num_nodes=num_nodes,\n",
    "\t\t\t\t\t\t\t\t\t\tnum_bins_pi=num_bins_pi, output_file_name=data_path_out + file_name)\n",
    "dataset_name = \"test\"\n",
    "# measure wg+\n",
    "MeasureIA_validation_obs.measure_xi_w(\"clusters\", dataset_name, corr_type, jk_patches=patches,\n",
    "\t\t\t\t\t\t\t\t\t  measure_cov=calc_errors, masks=masks, masks_randoms=masks_randoms,\n",
    "\t\t\t\t\t\t\t\t\t  cosmology=cosmology,\n",
    "\t\t\t\t\t\t\t\t\t  over_h=over_h)\n",
    "# measure multipoles\n",
    "MeasureIA_validation_obs.measure_xi_multipoles(\"clusters\", dataset_name, corr_type, jk_patches=patches,\n",
    "\t\t\t\t\t\t\t\t\t\t\t   calc_errors=calc_errors, rp_cut=rp_cut, masks=masks,\n",
    "\t\t\t\t\t\t\t\t\t\t\t   masks_randoms=masks_randoms,\n",
    "\t\t\t\t\t\t\t\t\t\t\t   cosmology=cosmology, over_h=over_h)"
   ],
   "metadata": {
    "collapsed": false
   },
   "id": "a530f68b87f6cafa"
  },
  {
   "cell_type": "markdown",
   "source": [
    "## Run with internal jackknife patch assignment\n",
    "If there are no pre-assigned jackknife patches, they can be assigned internally by entering the number of patches you want in num_jk. Note that for small samples, the covariance may differ because the patch assignment has a random seed."
   ],
   "metadata": {
    "collapsed": false
   },
   "id": "da45686fc4b7bfba"
  },
  {
   "cell_type": "code",
   "execution_count": null,
   "outputs": [],
   "source": [
    "\n",
    "\n",
    "MeasureIA_validation_obs = MeasureIALightcone(data, data_r,\n",
    "\t\t\t\t\t\t\t\t\t\tseparation_limits=separation_limits, pi_max=pimax,\n",
    "\t\t\t\t\t\t\t\t\t\tnum_bins_r=num_bins_r, num_nodes=num_nodes,\n",
    "\t\t\t\t\t\t\t\t\t\tnum_bins_pi=num_bins_pi, output_file_name=data_path_out + file_name)\n",
    "dataset_name = \"test\"\n",
    "# measure wg+\n",
    "MeasureIA_validation_obs.measure_xi_w(\"clusters\", dataset_name, corr_type, num_jk=20,\n",
    "\t\t\t\t\t\t\t\t\t  measure_cov=calc_errors, masks=masks, masks_randoms=masks_randoms,\n",
    "\t\t\t\t\t\t\t\t\t  cosmology=cosmology,\n",
    "\t\t\t\t\t\t\t\t\t  over_h=over_h)\n",
    "# measure multipoles\n",
    "MeasureIA_validation_obs.measure_xi_multipoles(\"clusters\", dataset_name, corr_type, num_jk=20,\n",
    "\t\t\t\t\t\t\t\t\t\t\t   calc_errors=calc_errors, rp_cut=rp_cut, masks=masks,\n",
    "\t\t\t\t\t\t\t\t\t\t\t   masks_randoms=masks_randoms,\n",
    "\t\t\t\t\t\t\t\t\t\t\t   cosmology=cosmology, over_h=over_h)"
   ],
   "metadata": {
    "collapsed": false
   },
   "id": "f70976766a2a34e5"
  }
 ],
 "metadata": {
  "kernelspec": {
   "display_name": "Python 3",
   "language": "python",
   "name": "python3"
  },
  "language_info": {
   "codemirror_mode": {
    "name": "ipython",
    "version": 2
   },
   "file_extension": ".py",
   "mimetype": "text/x-python",
   "name": "python",
   "nbconvert_exporter": "python",
   "pygments_lexer": "ipython2",
   "version": "2.7.6"
  }
 },
 "nbformat": 4,
 "nbformat_minor": 5
}
